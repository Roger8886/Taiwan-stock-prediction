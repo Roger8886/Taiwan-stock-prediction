{
  "nbformat": 4,
  "nbformat_minor": 0,
  "metadata": {
    "colab": {
      "provenance": [],
      "collapsed_sections": [],
      "authorship_tag": "ABX9TyOXKBR0SCH5RbASI4NVZDUl",
      "include_colab_link": true
    },
    "kernelspec": {
      "name": "python3",
      "display_name": "Python 3"
    },
    "language_info": {
      "name": "python"
    }
  },
  "cells": [
    {
      "cell_type": "markdown",
      "metadata": {
        "id": "view-in-github",
        "colab_type": "text"
      },
      "source": [
        "<a href=\"https://colab.research.google.com/github/Roger8886/Taiwan-stock-prediction/blob/main/Taiwan_stock_prediction.ipynb\" target=\"_parent\"><img src=\"https://colab.research.google.com/assets/colab-badge.svg\" alt=\"Open In Colab\"/></a>"
      ]
    },
    {
      "cell_type": "markdown",
      "source": [
        "## 台灣股市資料收集"
      ],
      "metadata": {
        "id": "Jz12hyIw6bwE"
      }
    },
    {
      "cell_type": "code",
      "execution_count": null,
      "metadata": {
        "colab": {
          "base_uri": "https://localhost:8080/"
        },
        "id": "24A_NlNW3vHL",
        "outputId": "52c154a8-b6a2-427f-d544-e27f39a4f382"
      },
      "outputs": [
        {
          "output_type": "stream",
          "name": "stdout",
          "text": [
            "Looking in indexes: https://pypi.org/simple, https://us-python.pkg.dev/colab-wheels/public/simple/\n",
            "Collecting twstock\n",
            "  Downloading twstock-1.3.1-py3-none-any.whl (1.9 MB)\n",
            "\u001b[K     |████████████████████████████████| 1.9 MB 4.8 MB/s \n",
            "\u001b[?25hRequirement already satisfied: requests in /usr/local/lib/python3.7/dist-packages (from twstock) (2.23.0)\n",
            "Requirement already satisfied: certifi>=2017.4.17 in /usr/local/lib/python3.7/dist-packages (from requests->twstock) (2022.6.15)\n",
            "Requirement already satisfied: urllib3!=1.25.0,!=1.25.1,<1.26,>=1.21.1 in /usr/local/lib/python3.7/dist-packages (from requests->twstock) (1.24.3)\n",
            "Requirement already satisfied: chardet<4,>=3.0.2 in /usr/local/lib/python3.7/dist-packages (from requests->twstock) (3.0.4)\n",
            "Requirement already satisfied: idna<3,>=2.5 in /usr/local/lib/python3.7/dist-packages (from requests->twstock) (2.10)\n",
            "Installing collected packages: twstock\n",
            "Successfully installed twstock-1.3.1\n"
          ]
        }
      ],
      "source": [
        "# 安裝twstock模組\n",
        "!pip install twstock"
      ]
    },
    {
      "cell_type": "code",
      "source": [
        "# 載入twstock模組\n",
        "import twstock"
      ],
      "metadata": {
        "id": "hGj1x74g4E9o"
      },
      "execution_count": null,
      "outputs": []
    },
    {
      "cell_type": "code",
      "source": [
        "# 在twstock模組中利用 Stock 方法查詢個股歷史股票資料\n",
        "stock = twstock.Stock('2317')\n",
        "print(stock.price)"
      ],
      "metadata": {
        "colab": {
          "base_uri": "https://localhost:8080/"
        },
        "id": "Go-x3Fhe4Tej",
        "outputId": "fb93e4ca-4b30-4b1f-a9a8-7011dc4f3dc6"
      },
      "execution_count": null,
      "outputs": [
        {
          "output_type": "stream",
          "name": "stdout",
          "text": [
            "[105.0, 104.0, 103.5, 105.5, 106.0, 107.5, 108.0, 108.0, 108.5, 109.0, 109.0, 108.0, 108.5, 108.0, 108.0, 108.0, 109.0, 110.0, 113.0, 112.5, 112.0, 111.0, 112.5, 112.0, 111.0, 111.0, 110.0, 109.5, 109.5, 110.5, 108.0]\n"
          ]
        }
      ]
    },
    {
      "cell_type": "code",
      "source": [
        "# 顯示最近一日的開盤價、最高價、最低價、收盤價\n",
        "print(\"日期:\", stock.date[-1])\n",
        "print(\"開盤價：\", stock.open[-1])\n",
        "print(\"最高價：\", stock.high[-1])\n",
        "print(\"最低價：\", stock.low[-1])\n",
        "print(\"收盤價：\", stock.price[-1])"
      ],
      "metadata": {
        "colab": {
          "base_uri": "https://localhost:8080/"
        },
        "id": "gcDW_7EB41Xg",
        "outputId": "1f46e530-a553-408d-85ff-1d71811a2247"
      },
      "execution_count": null,
      "outputs": [
        {
          "output_type": "stream",
          "name": "stdout",
          "text": [
            "日期: 2022-08-29 00:00:00\n",
            "開盤價： 108.5\n",
            "最高價： 109.0\n",
            "最低價： 108.0\n",
            "收盤價： 108.0\n"
          ]
        }
      ]
    },
    {
      "cell_type": "code",
      "source": [
        "# 利用stock物件中的fetch()方法讀取指定期間的歷史資料\n",
        "stock.fetch(2022,7)"
      ],
      "metadata": {
        "colab": {
          "base_uri": "https://localhost:8080/"
        },
        "id": "-scM8sLj5y1t",
        "outputId": "0a79f7de-2855-4886-baa4-a976c7ab52b5"
      },
      "execution_count": null,
      "outputs": [
        {
          "output_type": "execute_result",
          "data": {
            "text/plain": [
              "[Data(date=datetime.datetime(2022, 7, 1, 0, 0), capacity=63133602, turnover=6758749961, open=108.5, high=109.0, low=105.5, close=106.0, change=-3.0, transaction=32535),\n",
              " Data(date=datetime.datetime(2022, 7, 4, 0, 0), capacity=70995980, turnover=7140989017, open=100.5, high=102.0, low=99.5, close=100.0, change=0.0, transaction=32374),\n",
              " Data(date=datetime.datetime(2022, 7, 5, 0, 0), capacity=45713186, turnover=4669649468, open=102.0, high=103.0, low=101.0, close=102.5, change=2.5, transaction=20422),\n",
              " Data(date=datetime.datetime(2022, 7, 6, 0, 0), capacity=45875699, turnover=4653042441, open=103.0, high=103.5, low=100.5, close=100.5, change=-2.0, transaction=22660),\n",
              " Data(date=datetime.datetime(2022, 7, 7, 0, 0), capacity=41084778, turnover=4210411576, open=101.0, high=103.5, low=100.5, close=103.5, change=3.0, transaction=15382),\n",
              " Data(date=datetime.datetime(2022, 7, 8, 0, 0), capacity=35186757, turnover=3613971179, open=103.5, high=104.0, low=101.5, close=102.0, change=-1.5, transaction=15471),\n",
              " Data(date=datetime.datetime(2022, 7, 11, 0, 0), capacity=18971045, turnover=1917673836, open=102.0, high=102.0, low=100.5, close=101.0, change=-1.0, transaction=10175),\n",
              " Data(date=datetime.datetime(2022, 7, 12, 0, 0), capacity=26222208, turnover=2629265988, open=100.0, high=101.0, low=99.7, close=100.5, change=-0.5, transaction=13954),\n",
              " Data(date=datetime.datetime(2022, 7, 13, 0, 0), capacity=32354911, turnover=3333763591, open=103.0, high=103.5, low=102.5, close=102.5, change=2.0, transaction=15547),\n",
              " Data(date=datetime.datetime(2022, 7, 14, 0, 0), capacity=46239887, turnover=4831039581, open=102.5, high=106.0, low=102.5, close=105.0, change=2.5, transaction=18374),\n",
              " Data(date=datetime.datetime(2022, 7, 15, 0, 0), capacity=25505254, turnover=2682379312, open=105.0, high=106.0, low=104.5, close=105.0, change=0.0, transaction=10272),\n",
              " Data(date=datetime.datetime(2022, 7, 18, 0, 0), capacity=17083253, turnover=1789285264, open=105.0, high=105.5, low=104.0, close=105.0, change=0.0, transaction=8324),\n",
              " Data(date=datetime.datetime(2022, 7, 19, 0, 0), capacity=20535363, turnover=2138674698, open=104.5, high=105.0, low=103.5, close=104.0, change=-1.0, transaction=10417),\n",
              " Data(date=datetime.datetime(2022, 7, 20, 0, 0), capacity=35585856, turnover=3703922190, open=104.0, high=105.0, low=103.0, close=103.5, change=-0.5, transaction=17562),\n",
              " Data(date=datetime.datetime(2022, 7, 21, 0, 0), capacity=24149090, turnover=2529832035, open=104.0, high=105.5, low=103.5, close=105.5, change=2.0, transaction=9269),\n",
              " Data(date=datetime.datetime(2022, 7, 22, 0, 0), capacity=29400418, turnover=3117384373, open=105.5, high=106.5, low=105.0, close=106.0, change=0.5, transaction=11003),\n",
              " Data(date=datetime.datetime(2022, 7, 25, 0, 0), capacity=41471982, turnover=4448057977, open=106.0, high=108.0, low=105.5, close=107.5, change=1.5, transaction=14188),\n",
              " Data(date=datetime.datetime(2022, 7, 26, 0, 0), capacity=23277125, turnover=2508249267, open=108.0, high=108.5, low=107.0, close=108.0, change=0.5, transaction=10247),\n",
              " Data(date=datetime.datetime(2022, 7, 27, 0, 0), capacity=30876807, turnover=3344846475, open=108.5, high=109.5, low=107.5, close=108.0, change=0.0, transaction=13670),\n",
              " Data(date=datetime.datetime(2022, 7, 28, 0, 0), capacity=21932255, turnover=2378939021, open=109.0, high=109.0, low=108.0, close=108.5, change=0.5, transaction=11572),\n",
              " Data(date=datetime.datetime(2022, 7, 29, 0, 0), capacity=21951559, turnover=2389538354, open=109.0, high=109.5, low=108.5, close=109.0, change=0.5, transaction=9079)]"
            ]
          },
          "metadata": {},
          "execution_count": 5
        }
      ]
    },
    {
      "cell_type": "code",
      "source": [
        "# 讀取2021年12月到今天的資料\n",
        "stock.fetch_from(2021,12)"
      ],
      "metadata": {
        "id": "jqZvBugS6KDI"
      },
      "execution_count": null,
      "outputs": []
    },
    {
      "cell_type": "code",
      "source": [
        "# 下載個股全年資料\n",
        "import csv, os, time\n",
        "import twstock\n",
        "\n",
        "datayear = 2021\n",
        "startmonth = 1\n",
        "filepath = 'twstock' + str(datayear) + '.csv'\n",
        "title = [\"日期\",\"成交股數\",\"成交金額\",\"開盤價\",\"最高價\",\"最低價\",\"收盤價\",\"漲跌價差\",\"成交筆數\"]\n",
        "\n",
        "for i in range(startmonth, 13):\n",
        "    outputfile = open(filepath, 'a', newline='', encoding='big5')\n",
        "    outputwriter = csv.writer(outputfile)\n",
        "    stock = twstock.Stock('2317')\n",
        "    stocklist=stock.fetch(datayear,i)\n",
        "    data=[]\n",
        "    for stock in stocklist:\n",
        "        strdate = stock.date.strftime(\"%Y-%m-%d\")\n",
        "        li = [strdate,stock.capacity,stock.turnover,\n",
        "              stock.open,stock.high,stock.low,stock.close,\n",
        "              stock.change,stock.transaction]\n",
        "        data.append(li)\n",
        "    if i==1:\n",
        "        outputwriter.writerow(title)\n",
        "    for dataline in (data):\n",
        "        outputwriter.writerow(dataline)\n",
        "    time.sleep(2)\n",
        "    outputfile.close()"
      ],
      "metadata": {
        "id": "w9_prZks6fs1"
      },
      "execution_count": null,
      "outputs": []
    },
    {
      "cell_type": "markdown",
      "source": [
        "# 實作台灣股票市場股價預測\n"
      ],
      "metadata": {
        "id": "tD6jwngvps5v"
      }
    },
    {
      "cell_type": "markdown",
      "source": [
        "## 資料預處理"
      ],
      "metadata": {
        "id": "hAVAQGstp1dZ"
      }
    },
    {
      "cell_type": "code",
      "source": [
        "# 匯入模組\n",
        "import pandas as pd\n",
        "import numpy as np\n",
        "\n",
        "from sklearn.preprocessing import MinMaxScaler\n",
        "from keras.models import Sequential\n",
        "from keras.layers import LSTM, Dense"
      ],
      "metadata": {
        "id": "UeyJl55IrFid"
      },
      "execution_count": null,
      "outputs": []
    },
    {
      "cell_type": "code",
      "source": [
        "# 取得收盤價資料\n",
        "df = pd.read_csv(\"twstock2021.csv\", encoding='big5')"
      ],
      "metadata": {
        "id": "kWmoGKGLr0Md"
      },
      "execution_count": null,
      "outputs": []
    },
    {
      "cell_type": "code",
      "source": [
        "dfprice = pd.DataFrame(df['收盤價'])\n",
        "dfprice"
      ],
      "metadata": {
        "colab": {
          "base_uri": "https://localhost:8080/",
          "height": 424
        },
        "id": "I1hDdlTDsQ0y",
        "outputId": "500a310c-cf0f-46c2-9eb2-0f47597f152b"
      },
      "execution_count": null,
      "outputs": [
        {
          "output_type": "execute_result",
          "data": {
            "text/plain": [
              "       收盤價\n",
              "0     99.9\n",
              "1    104.0\n",
              "2    105.0\n",
              "3    107.0\n",
              "4    108.0\n",
              "..     ...\n",
              "239  104.0\n",
              "240  104.5\n",
              "241  105.5\n",
              "242  105.0\n",
              "243  104.0\n",
              "\n",
              "[244 rows x 1 columns]"
            ],
            "text/html": [
              "\n",
              "  <div id=\"df-c6470a90-18a5-4d8e-a244-63fcbbf229d8\">\n",
              "    <div class=\"colab-df-container\">\n",
              "      <div>\n",
              "<style scoped>\n",
              "    .dataframe tbody tr th:only-of-type {\n",
              "        vertical-align: middle;\n",
              "    }\n",
              "\n",
              "    .dataframe tbody tr th {\n",
              "        vertical-align: top;\n",
              "    }\n",
              "\n",
              "    .dataframe thead th {\n",
              "        text-align: right;\n",
              "    }\n",
              "</style>\n",
              "<table border=\"1\" class=\"dataframe\">\n",
              "  <thead>\n",
              "    <tr style=\"text-align: right;\">\n",
              "      <th></th>\n",
              "      <th>收盤價</th>\n",
              "    </tr>\n",
              "  </thead>\n",
              "  <tbody>\n",
              "    <tr>\n",
              "      <th>0</th>\n",
              "      <td>99.9</td>\n",
              "    </tr>\n",
              "    <tr>\n",
              "      <th>1</th>\n",
              "      <td>104.0</td>\n",
              "    </tr>\n",
              "    <tr>\n",
              "      <th>2</th>\n",
              "      <td>105.0</td>\n",
              "    </tr>\n",
              "    <tr>\n",
              "      <th>3</th>\n",
              "      <td>107.0</td>\n",
              "    </tr>\n",
              "    <tr>\n",
              "      <th>4</th>\n",
              "      <td>108.0</td>\n",
              "    </tr>\n",
              "    <tr>\n",
              "      <th>...</th>\n",
              "      <td>...</td>\n",
              "    </tr>\n",
              "    <tr>\n",
              "      <th>239</th>\n",
              "      <td>104.0</td>\n",
              "    </tr>\n",
              "    <tr>\n",
              "      <th>240</th>\n",
              "      <td>104.5</td>\n",
              "    </tr>\n",
              "    <tr>\n",
              "      <th>241</th>\n",
              "      <td>105.5</td>\n",
              "    </tr>\n",
              "    <tr>\n",
              "      <th>242</th>\n",
              "      <td>105.0</td>\n",
              "    </tr>\n",
              "    <tr>\n",
              "      <th>243</th>\n",
              "      <td>104.0</td>\n",
              "    </tr>\n",
              "  </tbody>\n",
              "</table>\n",
              "<p>244 rows × 1 columns</p>\n",
              "</div>\n",
              "      <button class=\"colab-df-convert\" onclick=\"convertToInteractive('df-c6470a90-18a5-4d8e-a244-63fcbbf229d8')\"\n",
              "              title=\"Convert this dataframe to an interactive table.\"\n",
              "              style=\"display:none;\">\n",
              "        \n",
              "  <svg xmlns=\"http://www.w3.org/2000/svg\" height=\"24px\"viewBox=\"0 0 24 24\"\n",
              "       width=\"24px\">\n",
              "    <path d=\"M0 0h24v24H0V0z\" fill=\"none\"/>\n",
              "    <path d=\"M18.56 5.44l.94 2.06.94-2.06 2.06-.94-2.06-.94-.94-2.06-.94 2.06-2.06.94zm-11 1L8.5 8.5l.94-2.06 2.06-.94-2.06-.94L8.5 2.5l-.94 2.06-2.06.94zm10 10l.94 2.06.94-2.06 2.06-.94-2.06-.94-.94-2.06-.94 2.06-2.06.94z\"/><path d=\"M17.41 7.96l-1.37-1.37c-.4-.4-.92-.59-1.43-.59-.52 0-1.04.2-1.43.59L10.3 9.45l-7.72 7.72c-.78.78-.78 2.05 0 2.83L4 21.41c.39.39.9.59 1.41.59.51 0 1.02-.2 1.41-.59l7.78-7.78 2.81-2.81c.8-.78.8-2.07 0-2.86zM5.41 20L4 18.59l7.72-7.72 1.47 1.35L5.41 20z\"/>\n",
              "  </svg>\n",
              "      </button>\n",
              "      \n",
              "  <style>\n",
              "    .colab-df-container {\n",
              "      display:flex;\n",
              "      flex-wrap:wrap;\n",
              "      gap: 12px;\n",
              "    }\n",
              "\n",
              "    .colab-df-convert {\n",
              "      background-color: #E8F0FE;\n",
              "      border: none;\n",
              "      border-radius: 50%;\n",
              "      cursor: pointer;\n",
              "      display: none;\n",
              "      fill: #1967D2;\n",
              "      height: 32px;\n",
              "      padding: 0 0 0 0;\n",
              "      width: 32px;\n",
              "    }\n",
              "\n",
              "    .colab-df-convert:hover {\n",
              "      background-color: #E2EBFA;\n",
              "      box-shadow: 0px 1px 2px rgba(60, 64, 67, 0.3), 0px 1px 3px 1px rgba(60, 64, 67, 0.15);\n",
              "      fill: #174EA6;\n",
              "    }\n",
              "\n",
              "    [theme=dark] .colab-df-convert {\n",
              "      background-color: #3B4455;\n",
              "      fill: #D2E3FC;\n",
              "    }\n",
              "\n",
              "    [theme=dark] .colab-df-convert:hover {\n",
              "      background-color: #434B5C;\n",
              "      box-shadow: 0px 1px 3px 1px rgba(0, 0, 0, 0.15);\n",
              "      filter: drop-shadow(0px 1px 2px rgba(0, 0, 0, 0.3));\n",
              "      fill: #FFFFFF;\n",
              "    }\n",
              "  </style>\n",
              "\n",
              "      <script>\n",
              "        const buttonEl =\n",
              "          document.querySelector('#df-c6470a90-18a5-4d8e-a244-63fcbbf229d8 button.colab-df-convert');\n",
              "        buttonEl.style.display =\n",
              "          google.colab.kernel.accessAllowed ? 'block' : 'none';\n",
              "\n",
              "        async function convertToInteractive(key) {\n",
              "          const element = document.querySelector('#df-c6470a90-18a5-4d8e-a244-63fcbbf229d8');\n",
              "          const dataTable =\n",
              "            await google.colab.kernel.invokeFunction('convertToInteractive',\n",
              "                                                     [key], {});\n",
              "          if (!dataTable) return;\n",
              "\n",
              "          const docLinkHtml = 'Like what you see? Visit the ' +\n",
              "            '<a target=\"_blank\" href=https://colab.research.google.com/notebooks/data_table.ipynb>data table notebook</a>'\n",
              "            + ' to learn more about interactive tables.';\n",
              "          element.innerHTML = '';\n",
              "          dataTable['output_type'] = 'display_data';\n",
              "          await google.colab.output.renderOutput(dataTable, element);\n",
              "          const docLink = document.createElement('div');\n",
              "          docLink.innerHTML = docLinkHtml;\n",
              "          element.appendChild(docLink);\n",
              "        }\n",
              "      </script>\n",
              "    </div>\n",
              "  </div>\n",
              "  "
            ]
          },
          "metadata": {},
          "execution_count": 3
        }
      ]
    },
    {
      "cell_type": "code",
      "source": [
        "# 建立RNN資料串列\n",
        "sequence_length = 10\n",
        "data = []\n",
        "for i in range(len(dfprice) - sequence_length):\n",
        "    data.append(dfprice[i: i + sequence_length + 1])\n",
        "print(data[0])"
      ],
      "metadata": {
        "colab": {
          "base_uri": "https://localhost:8080/"
        },
        "id": "t_tbXRCkshkX",
        "outputId": "6b3be477-f14f-4382-ae1e-3cc19ae16281"
      },
      "execution_count": null,
      "outputs": [
        {
          "output_type": "stream",
          "name": "stdout",
          "text": [
            "      收盤價\n",
            "0    99.9\n",
            "1   104.0\n",
            "2   105.0\n",
            "3   107.0\n",
            "4   108.0\n",
            "5   107.5\n",
            "6   104.0\n",
            "7   106.5\n",
            "8   116.0\n",
            "9   115.5\n",
            "10  114.0\n"
          ]
        }
      ]
    },
    {
      "cell_type": "markdown",
      "source": [
        "## 資料標準化"
      ],
      "metadata": {
        "id": "tqRvJuk2tNqE"
      }
    },
    {
      "cell_type": "code",
      "source": [
        "sequence_length = 10\n",
        "scaler = MinMaxScaler()\n",
        "dfprice = scaler.fit_transform(dfprice)\n",
        "data = []\n",
        "for i in range(len(dfprice) - sequence_length):\n",
        "    data.append(dfprice[i: i + sequence_length + 1])"
      ],
      "metadata": {
        "id": "E_lNcUqJtQI8"
      },
      "execution_count": null,
      "outputs": []
    },
    {
      "cell_type": "markdown",
      "source": [
        "## 分割訓練及測試資料"
      ],
      "metadata": {
        "id": "TPQOwe-lt8uH"
      }
    },
    {
      "cell_type": "code",
      "source": [
        "reshape_data = np.array(data)\n",
        "x = reshape_data[:, :-1]\n",
        "y = reshape_data[:, -1]\n",
        "split_boundary = int(reshape_data.shape[0]*0.8)\n",
        "train_x = x[: split_boundary]\n",
        "test_x = x[split_boundary:]\n",
        "train_y = y[: split_boundary]\n",
        "test_y = y[split_boundary:]\n",
        "print(\"訓練資料數量:{}\".format(len(train_x)))\n",
        "print(\"測試資料數量:{}\".format(len(test_x)))"
      ],
      "metadata": {
        "colab": {
          "base_uri": "https://localhost:8080/"
        },
        "id": "39ubQo98uCfU",
        "outputId": "904b9dbe-8a98-4f97-bd39-3cc462d0aaeb"
      },
      "execution_count": null,
      "outputs": [
        {
          "output_type": "stream",
          "name": "stdout",
          "text": [
            "訓練資料數量:187\n",
            "測試資料數量:47\n"
          ]
        }
      ]
    },
    {
      "cell_type": "markdown",
      "source": [
        "# 建立及訓練循環神經網路\n"
      ],
      "metadata": {
        "id": "R-sEjkl3vkL2"
      }
    },
    {
      "cell_type": "markdown",
      "source": [
        "## 建立輸入層及LSTM層"
      ],
      "metadata": {
        "id": "_twEAOn1vs7y"
      }
    },
    {
      "cell_type": "code",
      "source": [
        "model = Sequential()\n",
        "model.add(LSTM(input_shape=(10,1), units=256, unroll=False))"
      ],
      "metadata": {
        "id": "lfDTmSM2vzn3"
      },
      "execution_count": null,
      "outputs": []
    },
    {
      "cell_type": "markdown",
      "source": [
        "## 建立輸出層"
      ],
      "metadata": {
        "id": "CGjCV4XbwMEw"
      }
    },
    {
      "cell_type": "code",
      "source": [
        "model.add(Dense(units=1))"
      ],
      "metadata": {
        "id": "krQN1oAWwP0H"
      },
      "execution_count": null,
      "outputs": []
    },
    {
      "cell_type": "code",
      "source": [
        "# 查看權重數量\n",
        "model.summary()"
      ],
      "metadata": {
        "colab": {
          "base_uri": "https://localhost:8080/"
        },
        "id": "we71ZAikwbXb",
        "outputId": "a7abef07-d1a4-412f-8a3a-70389b564000"
      },
      "execution_count": null,
      "outputs": [
        {
          "output_type": "stream",
          "name": "stdout",
          "text": [
            "Model: \"sequential_1\"\n",
            "_________________________________________________________________\n",
            " Layer (type)                Output Shape              Param #   \n",
            "=================================================================\n",
            " lstm_1 (LSTM)               (None, 256)               264192    \n",
            "                                                                 \n",
            " dense (Dense)               (None, 1)                 257       \n",
            "                                                                 \n",
            "=================================================================\n",
            "Total params: 264,449\n",
            "Trainable params: 264,449\n",
            "Non-trainable params: 0\n",
            "_________________________________________________________________\n"
          ]
        }
      ]
    },
    {
      "cell_type": "markdown",
      "source": [
        "## 訓練及儲存模型"
      ],
      "metadata": {
        "id": "mq-YPgadw_4A"
      }
    },
    {
      "cell_type": "code",
      "source": [
        "model.compile(loss=\"mse\", optimizer=\"adam\", metrics=['accuracy'])\n",
        "model.fit(train_x, train_y, batch_size=100, epochs=100, validation_split=0.2, verbose=2)\n",
        "model.save('stock_model.h5')"
      ],
      "metadata": {
        "colab": {
          "base_uri": "https://localhost:8080/"
        },
        "id": "sSU7eGKqxE6-",
        "outputId": "3936621d-71d2-4d04-ceef-d00fee739c96"
      },
      "execution_count": null,
      "outputs": [
        {
          "output_type": "stream",
          "name": "stdout",
          "text": [
            "Epoch 1/100\n",
            "2/2 - 3s - loss: 0.3027 - accuracy: 0.0067 - val_loss: 0.0365 - val_accuracy: 0.0000e+00 - 3s/epoch - 2s/step\n",
            "Epoch 2/100\n",
            "2/2 - 0s - loss: 0.1201 - accuracy: 0.0067 - val_loss: 0.0064 - val_accuracy: 0.0000e+00 - 152ms/epoch - 76ms/step\n",
            "Epoch 3/100\n",
            "2/2 - 0s - loss: 0.0299 - accuracy: 0.0134 - val_loss: 0.0200 - val_accuracy: 0.0000e+00 - 156ms/epoch - 78ms/step\n",
            "Epoch 4/100\n",
            "2/2 - 0s - loss: 0.0429 - accuracy: 0.0067 - val_loss: 0.0233 - val_accuracy: 0.0000e+00 - 135ms/epoch - 67ms/step\n",
            "Epoch 5/100\n",
            "2/2 - 0s - loss: 0.0384 - accuracy: 0.0134 - val_loss: 0.0086 - val_accuracy: 0.0000e+00 - 147ms/epoch - 74ms/step\n",
            "Epoch 6/100\n",
            "2/2 - 0s - loss: 0.0172 - accuracy: 0.0134 - val_loss: 0.0046 - val_accuracy: 0.0000e+00 - 139ms/epoch - 70ms/step\n",
            "Epoch 7/100\n",
            "2/2 - 0s - loss: 0.0194 - accuracy: 0.0134 - val_loss: 0.0053 - val_accuracy: 0.0000e+00 - 158ms/epoch - 79ms/step\n",
            "Epoch 8/100\n",
            "2/2 - 0s - loss: 0.0256 - accuracy: 0.0134 - val_loss: 0.0055 - val_accuracy: 0.0000e+00 - 134ms/epoch - 67ms/step\n",
            "Epoch 9/100\n",
            "2/2 - 0s - loss: 0.0258 - accuracy: 0.0134 - val_loss: 0.0047 - val_accuracy: 0.0000e+00 - 146ms/epoch - 73ms/step\n",
            "Epoch 10/100\n",
            "2/2 - 0s - loss: 0.0211 - accuracy: 0.0134 - val_loss: 0.0044 - val_accuracy: 0.0000e+00 - 149ms/epoch - 74ms/step\n",
            "Epoch 11/100\n",
            "2/2 - 0s - loss: 0.0156 - accuracy: 0.0134 - val_loss: 0.0061 - val_accuracy: 0.0000e+00 - 135ms/epoch - 68ms/step\n",
            "Epoch 12/100\n",
            "2/2 - 0s - loss: 0.0141 - accuracy: 0.0134 - val_loss: 0.0093 - val_accuracy: 0.0000e+00 - 140ms/epoch - 70ms/step\n",
            "Epoch 13/100\n",
            "2/2 - 0s - loss: 0.0163 - accuracy: 0.0134 - val_loss: 0.0112 - val_accuracy: 0.0000e+00 - 141ms/epoch - 71ms/step\n",
            "Epoch 14/100\n",
            "2/2 - 0s - loss: 0.0174 - accuracy: 0.0134 - val_loss: 0.0098 - val_accuracy: 0.0000e+00 - 152ms/epoch - 76ms/step\n",
            "Epoch 15/100\n",
            "2/2 - 0s - loss: 0.0156 - accuracy: 0.0134 - val_loss: 0.0072 - val_accuracy: 0.0000e+00 - 131ms/epoch - 66ms/step\n",
            "Epoch 16/100\n",
            "2/2 - 0s - loss: 0.0136 - accuracy: 0.0134 - val_loss: 0.0054 - val_accuracy: 0.0000e+00 - 136ms/epoch - 68ms/step\n",
            "Epoch 17/100\n",
            "2/2 - 0s - loss: 0.0138 - accuracy: 0.0134 - val_loss: 0.0047 - val_accuracy: 0.0000e+00 - 147ms/epoch - 73ms/step\n",
            "Epoch 18/100\n",
            "2/2 - 0s - loss: 0.0142 - accuracy: 0.0134 - val_loss: 0.0045 - val_accuracy: 0.0000e+00 - 132ms/epoch - 66ms/step\n",
            "Epoch 19/100\n",
            "2/2 - 0s - loss: 0.0143 - accuracy: 0.0134 - val_loss: 0.0047 - val_accuracy: 0.0000e+00 - 143ms/epoch - 71ms/step\n",
            "Epoch 20/100\n",
            "2/2 - 0s - loss: 0.0137 - accuracy: 0.0134 - val_loss: 0.0054 - val_accuracy: 0.0000e+00 - 135ms/epoch - 67ms/step\n",
            "Epoch 21/100\n",
            "2/2 - 0s - loss: 0.0131 - accuracy: 0.0134 - val_loss: 0.0064 - val_accuracy: 0.0000e+00 - 145ms/epoch - 72ms/step\n",
            "Epoch 22/100\n",
            "2/2 - 0s - loss: 0.0132 - accuracy: 0.0134 - val_loss: 0.0071 - val_accuracy: 0.0000e+00 - 138ms/epoch - 69ms/step\n",
            "Epoch 23/100\n",
            "2/2 - 0s - loss: 0.0132 - accuracy: 0.0134 - val_loss: 0.0071 - val_accuracy: 0.0000e+00 - 146ms/epoch - 73ms/step\n",
            "Epoch 24/100\n",
            "2/2 - 0s - loss: 0.0131 - accuracy: 0.0134 - val_loss: 0.0065 - val_accuracy: 0.0000e+00 - 138ms/epoch - 69ms/step\n",
            "Epoch 25/100\n",
            "2/2 - 0s - loss: 0.0127 - accuracy: 0.0134 - val_loss: 0.0058 - val_accuracy: 0.0000e+00 - 142ms/epoch - 71ms/step\n",
            "Epoch 26/100\n",
            "2/2 - 0s - loss: 0.0126 - accuracy: 0.0134 - val_loss: 0.0052 - val_accuracy: 0.0000e+00 - 137ms/epoch - 69ms/step\n",
            "Epoch 27/100\n",
            "2/2 - 0s - loss: 0.0127 - accuracy: 0.0134 - val_loss: 0.0050 - val_accuracy: 0.0000e+00 - 143ms/epoch - 72ms/step\n",
            "Epoch 28/100\n",
            "2/2 - 0s - loss: 0.0127 - accuracy: 0.0134 - val_loss: 0.0052 - val_accuracy: 0.0000e+00 - 152ms/epoch - 76ms/step\n",
            "Epoch 29/100\n",
            "2/2 - 0s - loss: 0.0125 - accuracy: 0.0134 - val_loss: 0.0056 - val_accuracy: 0.0000e+00 - 139ms/epoch - 70ms/step\n",
            "Epoch 30/100\n",
            "2/2 - 0s - loss: 0.0124 - accuracy: 0.0134 - val_loss: 0.0060 - val_accuracy: 0.0000e+00 - 150ms/epoch - 75ms/step\n",
            "Epoch 31/100\n",
            "2/2 - 0s - loss: 0.0123 - accuracy: 0.0134 - val_loss: 0.0060 - val_accuracy: 0.0000e+00 - 141ms/epoch - 71ms/step\n",
            "Epoch 32/100\n",
            "2/2 - 0s - loss: 0.0122 - accuracy: 0.0134 - val_loss: 0.0058 - val_accuracy: 0.0000e+00 - 136ms/epoch - 68ms/step\n",
            "Epoch 33/100\n",
            "2/2 - 0s - loss: 0.0121 - accuracy: 0.0134 - val_loss: 0.0057 - val_accuracy: 0.0000e+00 - 151ms/epoch - 75ms/step\n",
            "Epoch 34/100\n",
            "2/2 - 0s - loss: 0.0120 - accuracy: 0.0134 - val_loss: 0.0056 - val_accuracy: 0.0000e+00 - 144ms/epoch - 72ms/step\n",
            "Epoch 35/100\n",
            "2/2 - 0s - loss: 0.0119 - accuracy: 0.0134 - val_loss: 0.0054 - val_accuracy: 0.0000e+00 - 144ms/epoch - 72ms/step\n",
            "Epoch 36/100\n",
            "2/2 - 0s - loss: 0.0119 - accuracy: 0.0134 - val_loss: 0.0053 - val_accuracy: 0.0000e+00 - 136ms/epoch - 68ms/step\n",
            "Epoch 37/100\n",
            "2/2 - 0s - loss: 0.0118 - accuracy: 0.0134 - val_loss: 0.0052 - val_accuracy: 0.0000e+00 - 137ms/epoch - 68ms/step\n",
            "Epoch 38/100\n",
            "2/2 - 0s - loss: 0.0117 - accuracy: 0.0134 - val_loss: 0.0051 - val_accuracy: 0.0000e+00 - 141ms/epoch - 70ms/step\n",
            "Epoch 39/100\n",
            "2/2 - 0s - loss: 0.0116 - accuracy: 0.0134 - val_loss: 0.0053 - val_accuracy: 0.0000e+00 - 141ms/epoch - 70ms/step\n",
            "Epoch 40/100\n",
            "2/2 - 0s - loss: 0.0115 - accuracy: 0.0134 - val_loss: 0.0056 - val_accuracy: 0.0000e+00 - 133ms/epoch - 66ms/step\n",
            "Epoch 41/100\n",
            "2/2 - 0s - loss: 0.0115 - accuracy: 0.0134 - val_loss: 0.0055 - val_accuracy: 0.0000e+00 - 141ms/epoch - 70ms/step\n",
            "Epoch 42/100\n",
            "2/2 - 0s - loss: 0.0114 - accuracy: 0.0134 - val_loss: 0.0052 - val_accuracy: 0.0000e+00 - 153ms/epoch - 76ms/step\n",
            "Epoch 43/100\n",
            "2/2 - 0s - loss: 0.0114 - accuracy: 0.0134 - val_loss: 0.0050 - val_accuracy: 0.0000e+00 - 137ms/epoch - 69ms/step\n",
            "Epoch 44/100\n",
            "2/2 - 0s - loss: 0.0112 - accuracy: 0.0134 - val_loss: 0.0052 - val_accuracy: 0.0000e+00 - 139ms/epoch - 70ms/step\n",
            "Epoch 45/100\n",
            "2/2 - 0s - loss: 0.0111 - accuracy: 0.0134 - val_loss: 0.0053 - val_accuracy: 0.0000e+00 - 133ms/epoch - 67ms/step\n",
            "Epoch 46/100\n",
            "2/2 - 0s - loss: 0.0111 - accuracy: 0.0134 - val_loss: 0.0054 - val_accuracy: 0.0000e+00 - 139ms/epoch - 69ms/step\n",
            "Epoch 47/100\n",
            "2/2 - 0s - loss: 0.0110 - accuracy: 0.0134 - val_loss: 0.0052 - val_accuracy: 0.0000e+00 - 137ms/epoch - 69ms/step\n",
            "Epoch 48/100\n",
            "2/2 - 0s - loss: 0.0109 - accuracy: 0.0134 - val_loss: 0.0050 - val_accuracy: 0.0000e+00 - 139ms/epoch - 69ms/step\n",
            "Epoch 49/100\n",
            "2/2 - 0s - loss: 0.0108 - accuracy: 0.0134 - val_loss: 0.0050 - val_accuracy: 0.0000e+00 - 153ms/epoch - 77ms/step\n",
            "Epoch 50/100\n",
            "2/2 - 0s - loss: 0.0107 - accuracy: 0.0134 - val_loss: 0.0052 - val_accuracy: 0.0000e+00 - 139ms/epoch - 70ms/step\n",
            "Epoch 51/100\n",
            "2/2 - 0s - loss: 0.0106 - accuracy: 0.0134 - val_loss: 0.0051 - val_accuracy: 0.0000e+00 - 143ms/epoch - 71ms/step\n",
            "Epoch 52/100\n",
            "2/2 - 0s - loss: 0.0106 - accuracy: 0.0134 - val_loss: 0.0050 - val_accuracy: 0.0000e+00 - 138ms/epoch - 69ms/step\n",
            "Epoch 53/100\n",
            "2/2 - 0s - loss: 0.0105 - accuracy: 0.0134 - val_loss: 0.0049 - val_accuracy: 0.0000e+00 - 136ms/epoch - 68ms/step\n",
            "Epoch 54/100\n",
            "2/2 - 0s - loss: 0.0104 - accuracy: 0.0134 - val_loss: 0.0049 - val_accuracy: 0.0000e+00 - 135ms/epoch - 68ms/step\n",
            "Epoch 55/100\n",
            "2/2 - 0s - loss: 0.0104 - accuracy: 0.0134 - val_loss: 0.0051 - val_accuracy: 0.0000e+00 - 138ms/epoch - 69ms/step\n",
            "Epoch 56/100\n",
            "2/2 - 0s - loss: 0.0103 - accuracy: 0.0134 - val_loss: 0.0053 - val_accuracy: 0.0000e+00 - 159ms/epoch - 79ms/step\n",
            "Epoch 57/100\n",
            "2/2 - 0s - loss: 0.0103 - accuracy: 0.0134 - val_loss: 0.0051 - val_accuracy: 0.0000e+00 - 139ms/epoch - 69ms/step\n",
            "Epoch 58/100\n",
            "2/2 - 0s - loss: 0.0102 - accuracy: 0.0134 - val_loss: 0.0048 - val_accuracy: 0.0000e+00 - 142ms/epoch - 71ms/step\n",
            "Epoch 59/100\n",
            "2/2 - 0s - loss: 0.0101 - accuracy: 0.0134 - val_loss: 0.0046 - val_accuracy: 0.0000e+00 - 137ms/epoch - 68ms/step\n",
            "Epoch 60/100\n",
            "2/2 - 0s - loss: 0.0101 - accuracy: 0.0134 - val_loss: 0.0047 - val_accuracy: 0.0000e+00 - 135ms/epoch - 67ms/step\n",
            "Epoch 61/100\n",
            "2/2 - 0s - loss: 0.0101 - accuracy: 0.0134 - val_loss: 0.0051 - val_accuracy: 0.0000e+00 - 141ms/epoch - 70ms/step\n",
            "Epoch 62/100\n",
            "2/2 - 0s - loss: 0.0099 - accuracy: 0.0134 - val_loss: 0.0053 - val_accuracy: 0.0000e+00 - 139ms/epoch - 69ms/step\n",
            "Epoch 63/100\n",
            "2/2 - 0s - loss: 0.0100 - accuracy: 0.0134 - val_loss: 0.0051 - val_accuracy: 0.0000e+00 - 147ms/epoch - 74ms/step\n",
            "Epoch 64/100\n",
            "2/2 - 0s - loss: 0.0099 - accuracy: 0.0134 - val_loss: 0.0047 - val_accuracy: 0.0000e+00 - 153ms/epoch - 77ms/step\n",
            "Epoch 65/100\n",
            "2/2 - 0s - loss: 0.0099 - accuracy: 0.0134 - val_loss: 0.0049 - val_accuracy: 0.0000e+00 - 144ms/epoch - 72ms/step\n",
            "Epoch 66/100\n",
            "2/2 - 0s - loss: 0.0098 - accuracy: 0.0134 - val_loss: 0.0055 - val_accuracy: 0.0000e+00 - 141ms/epoch - 70ms/step\n",
            "Epoch 67/100\n",
            "2/2 - 0s - loss: 0.0098 - accuracy: 0.0134 - val_loss: 0.0054 - val_accuracy: 0.0000e+00 - 143ms/epoch - 71ms/step\n",
            "Epoch 68/100\n",
            "2/2 - 0s - loss: 0.0097 - accuracy: 0.0134 - val_loss: 0.0051 - val_accuracy: 0.0000e+00 - 144ms/epoch - 72ms/step\n",
            "Epoch 69/100\n",
            "2/2 - 0s - loss: 0.0096 - accuracy: 0.0134 - val_loss: 0.0048 - val_accuracy: 0.0000e+00 - 136ms/epoch - 68ms/step\n",
            "Epoch 70/100\n",
            "2/2 - 0s - loss: 0.0097 - accuracy: 0.0134 - val_loss: 0.0049 - val_accuracy: 0.0000e+00 - 150ms/epoch - 75ms/step\n",
            "Epoch 71/100\n",
            "2/2 - 0s - loss: 0.0096 - accuracy: 0.0134 - val_loss: 0.0053 - val_accuracy: 0.0000e+00 - 155ms/epoch - 78ms/step\n",
            "Epoch 72/100\n",
            "2/2 - 0s - loss: 0.0096 - accuracy: 0.0134 - val_loss: 0.0055 - val_accuracy: 0.0000e+00 - 145ms/epoch - 73ms/step\n",
            "Epoch 73/100\n",
            "2/2 - 0s - loss: 0.0096 - accuracy: 0.0134 - val_loss: 0.0052 - val_accuracy: 0.0000e+00 - 141ms/epoch - 70ms/step\n",
            "Epoch 74/100\n",
            "2/2 - 0s - loss: 0.0096 - accuracy: 0.0134 - val_loss: 0.0051 - val_accuracy: 0.0000e+00 - 137ms/epoch - 68ms/step\n",
            "Epoch 75/100\n",
            "2/2 - 0s - loss: 0.0095 - accuracy: 0.0134 - val_loss: 0.0053 - val_accuracy: 0.0000e+00 - 131ms/epoch - 66ms/step\n",
            "Epoch 76/100\n",
            "2/2 - 0s - loss: 0.0095 - accuracy: 0.0134 - val_loss: 0.0050 - val_accuracy: 0.0000e+00 - 146ms/epoch - 73ms/step\n",
            "Epoch 77/100\n",
            "2/2 - 0s - loss: 0.0094 - accuracy: 0.0134 - val_loss: 0.0049 - val_accuracy: 0.0000e+00 - 145ms/epoch - 72ms/step\n",
            "Epoch 78/100\n",
            "2/2 - 0s - loss: 0.0094 - accuracy: 0.0134 - val_loss: 0.0052 - val_accuracy: 0.0000e+00 - 150ms/epoch - 75ms/step\n",
            "Epoch 79/100\n",
            "2/2 - 0s - loss: 0.0095 - accuracy: 0.0134 - val_loss: 0.0057 - val_accuracy: 0.0000e+00 - 137ms/epoch - 68ms/step\n",
            "Epoch 80/100\n",
            "2/2 - 0s - loss: 0.0095 - accuracy: 0.0134 - val_loss: 0.0051 - val_accuracy: 0.0000e+00 - 131ms/epoch - 65ms/step\n",
            "Epoch 81/100\n",
            "2/2 - 0s - loss: 0.0093 - accuracy: 0.0134 - val_loss: 0.0049 - val_accuracy: 0.0000e+00 - 135ms/epoch - 67ms/step\n",
            "Epoch 82/100\n",
            "2/2 - 0s - loss: 0.0093 - accuracy: 0.0134 - val_loss: 0.0050 - val_accuracy: 0.0000e+00 - 142ms/epoch - 71ms/step\n",
            "Epoch 83/100\n",
            "2/2 - 0s - loss: 0.0093 - accuracy: 0.0134 - val_loss: 0.0054 - val_accuracy: 0.0000e+00 - 135ms/epoch - 68ms/step\n",
            "Epoch 84/100\n",
            "2/2 - 0s - loss: 0.0094 - accuracy: 0.0134 - val_loss: 0.0055 - val_accuracy: 0.0000e+00 - 140ms/epoch - 70ms/step\n",
            "Epoch 85/100\n",
            "2/2 - 0s - loss: 0.0094 - accuracy: 0.0134 - val_loss: 0.0048 - val_accuracy: 0.0000e+00 - 141ms/epoch - 71ms/step\n",
            "Epoch 86/100\n",
            "2/2 - 0s - loss: 0.0093 - accuracy: 0.0134 - val_loss: 0.0051 - val_accuracy: 0.0000e+00 - 136ms/epoch - 68ms/step\n",
            "Epoch 87/100\n",
            "2/2 - 0s - loss: 0.0092 - accuracy: 0.0134 - val_loss: 0.0056 - val_accuracy: 0.0000e+00 - 141ms/epoch - 70ms/step\n",
            "Epoch 88/100\n",
            "2/2 - 0s - loss: 0.0093 - accuracy: 0.0134 - val_loss: 0.0055 - val_accuracy: 0.0000e+00 - 132ms/epoch - 66ms/step\n",
            "Epoch 89/100\n",
            "2/2 - 0s - loss: 0.0092 - accuracy: 0.0134 - val_loss: 0.0051 - val_accuracy: 0.0000e+00 - 139ms/epoch - 70ms/step\n",
            "Epoch 90/100\n",
            "2/2 - 0s - loss: 0.0092 - accuracy: 0.0134 - val_loss: 0.0052 - val_accuracy: 0.0000e+00 - 131ms/epoch - 66ms/step\n",
            "Epoch 91/100\n",
            "2/2 - 0s - loss: 0.0092 - accuracy: 0.0134 - val_loss: 0.0055 - val_accuracy: 0.0000e+00 - 149ms/epoch - 75ms/step\n",
            "Epoch 92/100\n",
            "2/2 - 0s - loss: 0.0092 - accuracy: 0.0134 - val_loss: 0.0050 - val_accuracy: 0.0000e+00 - 148ms/epoch - 74ms/step\n",
            "Epoch 93/100\n",
            "2/2 - 0s - loss: 0.0092 - accuracy: 0.0134 - val_loss: 0.0045 - val_accuracy: 0.0000e+00 - 136ms/epoch - 68ms/step\n",
            "Epoch 94/100\n",
            "2/2 - 0s - loss: 0.0094 - accuracy: 0.0134 - val_loss: 0.0050 - val_accuracy: 0.0000e+00 - 138ms/epoch - 69ms/step\n",
            "Epoch 95/100\n",
            "2/2 - 0s - loss: 0.0091 - accuracy: 0.0134 - val_loss: 0.0053 - val_accuracy: 0.0000e+00 - 132ms/epoch - 66ms/step\n",
            "Epoch 96/100\n",
            "2/2 - 0s - loss: 0.0091 - accuracy: 0.0134 - val_loss: 0.0053 - val_accuracy: 0.0000e+00 - 146ms/epoch - 73ms/step\n",
            "Epoch 97/100\n",
            "2/2 - 0s - loss: 0.0091 - accuracy: 0.0134 - val_loss: 0.0048 - val_accuracy: 0.0000e+00 - 144ms/epoch - 72ms/step\n",
            "Epoch 98/100\n",
            "2/2 - 0s - loss: 0.0091 - accuracy: 0.0134 - val_loss: 0.0051 - val_accuracy: 0.0000e+00 - 149ms/epoch - 74ms/step\n",
            "Epoch 99/100\n",
            "2/2 - 0s - loss: 0.0090 - accuracy: 0.0134 - val_loss: 0.0054 - val_accuracy: 0.0000e+00 - 149ms/epoch - 75ms/step\n",
            "Epoch 100/100\n",
            "2/2 - 0s - loss: 0.0090 - accuracy: 0.0134 - val_loss: 0.0051 - val_accuracy: 0.0000e+00 - 135ms/epoch - 67ms/step\n"
          ]
        }
      ]
    },
    {
      "cell_type": "markdown",
      "source": [
        "## 預測股票收盤價"
      ],
      "metadata": {
        "id": "gH_vndm6x_Ox"
      }
    },
    {
      "cell_type": "code",
      "source": [
        "import pandas as pd\n",
        "import numpy as np\n",
        "import matplotlib.pyplot as plt\n",
        "from sklearn.preprocessing import MinMaxScaler\n",
        "from keras.models import load_model\n",
        "\n",
        "df = pd.read_csv(\"twstock2021.csv\", encoding='big5')\n",
        "dfprice = pd.DataFrame(df['收盤價'])\n",
        "sequence_length = 10\n",
        "scaler = MinMaxScaler()\n",
        "dfprice = scaler.fit_transform(dfprice)\n",
        "data = []\n",
        "for i in range(len(dfprice) - sequence_length):\n",
        "    data.append(dfprice[i: i + sequence_length + 1])\n",
        "reshape_data = np.array(data)\n",
        "x = reshape_data[:, :-1]\n",
        "y = reshape_data[:, -1]\n",
        "split_boundary = int(reshape_data.shape[0]*0.8)\n",
        "train_x = x[: split_boundary]\n",
        "test_x = x[split_boundary:]\n",
        "train_y = y[: split_boundary]\n",
        "test_y = y[split_boundary:]\n",
        "\n",
        "model = load_model('stock_model.h5')\n",
        "predict = model.predict(test_x)\n",
        "predict = scaler.inverse_transform(predict)\n",
        "test_y = scaler.inverse_transform(test_y)\n",
        "\n",
        "plt.figure(figsize=(12,6))\n",
        "plt.plot(predict, 'b-')\n",
        "plt.plot(test_y, 'r-')\n",
        "plt.legend(['predict', 'realdata'])\n",
        "plt.show()"
      ],
      "metadata": {
        "colab": {
          "base_uri": "https://localhost:8080/",
          "height": 374
        },
        "id": "TTMKbMFFyDzN",
        "outputId": "1d80021a-eded-475f-c9fc-70ee18e4007b"
      },
      "execution_count": null,
      "outputs": [
        {
          "output_type": "display_data",
          "data": {
            "text/plain": [
              "<Figure size 864x432 with 1 Axes>"
            ],
            "image/png": "[encoded data removed]"
          },
          "metadata": {
            "needs_background": "light"
          }
        }
      ]
    }
  ]
}