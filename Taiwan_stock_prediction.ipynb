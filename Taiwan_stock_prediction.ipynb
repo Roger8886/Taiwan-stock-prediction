{
  "nbformat": 4,
  "nbformat_minor": 0,
  "metadata": {
    "colab": {
      "name": "Taiwan-stock-prediction.ipynb",
      "provenance": [],
      "authorship_tag": "ABX9TyNwdx9BKm97VCo37GFvQ/Hp",
      "include_colab_link": true
    },
    "kernelspec": {
      "name": "python3",
      "display_name": "Python 3"
    },
    "language_info": {
      "name": "python"
    }
  },
  "cells": [
    {
      "cell_type": "markdown",
      "metadata": {
        "id": "view-in-github",
        "colab_type": "text"
      },
      "source": [
        "<a href=\"https://colab.research.google.com/github/Roger8886/Taiwan-stock-prediction/blob/main/Taiwan_stock_prediction.ipynb\" target=\"_parent\"><img src=\"https://colab.research.google.com/assets/colab-badge.svg\" alt=\"Open In Colab\"/></a>"
      ]
    },
    {
      "cell_type": "markdown",
      "source": [
        "## 台灣股市資料收集"
      ],
      "metadata": {
        "id": "Jz12hyIw6bwE"
      }
    },
    {
      "cell_type": "code",
      "execution_count": 1,
      "metadata": {
        "colab": {
          "base_uri": "https://localhost:8080/"
        },
        "id": "24A_NlNW3vHL",
        "outputId": "52c154a8-b6a2-427f-d544-e27f39a4f382"
      },
      "outputs": [
        {
          "output_type": "stream",
          "name": "stdout",
          "text": [
            "Looking in indexes: https://pypi.org/simple, https://us-python.pkg.dev/colab-wheels/public/simple/\n",
            "Collecting twstock\n",
            "  Downloading twstock-1.3.1-py3-none-any.whl (1.9 MB)\n",
            "\u001b[K     |████████████████████████████████| 1.9 MB 4.8 MB/s \n",
            "\u001b[?25hRequirement already satisfied: requests in /usr/local/lib/python3.7/dist-packages (from twstock) (2.23.0)\n",
            "Requirement already satisfied: certifi>=2017.4.17 in /usr/local/lib/python3.7/dist-packages (from requests->twstock) (2022.6.15)\n",
            "Requirement already satisfied: urllib3!=1.25.0,!=1.25.1,<1.26,>=1.21.1 in /usr/local/lib/python3.7/dist-packages (from requests->twstock) (1.24.3)\n",
            "Requirement already satisfied: chardet<4,>=3.0.2 in /usr/local/lib/python3.7/dist-packages (from requests->twstock) (3.0.4)\n",
            "Requirement already satisfied: idna<3,>=2.5 in /usr/local/lib/python3.7/dist-packages (from requests->twstock) (2.10)\n",
            "Installing collected packages: twstock\n",
            "Successfully installed twstock-1.3.1\n"
          ]
        }
      ],
      "source": [
        "# 安裝twstock模組\n",
        "!pip install twstock"
      ]
    },
    {
      "cell_type": "code",
      "source": [
        "# 載入twstock模組\n",
        "import twstock"
      ],
      "metadata": {
        "id": "hGj1x74g4E9o"
      },
      "execution_count": null,
      "outputs": []
    },
    {
      "cell_type": "code",
      "source": [
        "# 在twstock模組中利用 Stock 方法查詢個股歷史股票資料\n",
        "stock = twstock.Stock('2317')\n",
        "print(stock.price)"
      ],
      "metadata": {
        "colab": {
          "base_uri": "https://localhost:8080/"
        },
        "id": "Go-x3Fhe4Tej",
        "outputId": "fb93e4ca-4b30-4b1f-a9a8-7011dc4f3dc6"
      },
      "execution_count": null,
      "outputs": [
        {
          "output_type": "stream",
          "name": "stdout",
          "text": [
            "[105.0, 104.0, 103.5, 105.5, 106.0, 107.5, 108.0, 108.0, 108.5, 109.0, 109.0, 108.0, 108.5, 108.0, 108.0, 108.0, 109.0, 110.0, 113.0, 112.5, 112.0, 111.0, 112.5, 112.0, 111.0, 111.0, 110.0, 109.5, 109.5, 110.5, 108.0]\n"
          ]
        }
      ]
    },
    {
      "cell_type": "code",
      "source": [
        "# 顯示最近一日的開盤價、最高價、最低價、收盤價\n",
        "print(\"日期:\", stock.date[-1])\n",
        "print(\"開盤價：\", stock.open[-1])\n",
        "print(\"最高價：\", stock.high[-1])\n",
        "print(\"最低價：\", stock.low[-1])\n",
        "print(\"收盤價：\", stock.price[-1])"
      ],
      "metadata": {
        "colab": {
          "base_uri": "https://localhost:8080/"
        },
        "id": "gcDW_7EB41Xg",
        "outputId": "1f46e530-a553-408d-85ff-1d71811a2247"
      },
      "execution_count": null,
      "outputs": [
        {
          "output_type": "stream",
          "name": "stdout",
          "text": [
            "日期: 2022-08-29 00:00:00\n",
            "開盤價： 108.5\n",
            "最高價： 109.0\n",
            "最低價： 108.0\n",
            "收盤價： 108.0\n"
          ]
        }
      ]
    },
    {
      "cell_type": "code",
      "source": [
        "# 利用stock物件中的fetch()方法讀取指定期間的歷史資料\n",
        "stock.fetch(2022,7)"
      ],
      "metadata": {
        "colab": {
          "base_uri": "https://localhost:8080/"
        },
        "id": "-scM8sLj5y1t",
        "outputId": "0a79f7de-2855-4886-baa4-a976c7ab52b5"
      },
      "execution_count": null,
      "outputs": [
        {
          "output_type": "execute_result",
          "data": {
            "text/plain": [
              "[Data(date=datetime.datetime(2022, 7, 1, 0, 0), capacity=63133602, turnover=6758749961, open=108.5, high=109.0, low=105.5, close=106.0, change=-3.0, transaction=32535),\n",
              " Data(date=datetime.datetime(2022, 7, 4, 0, 0), capacity=70995980, turnover=7140989017, open=100.5, high=102.0, low=99.5, close=100.0, change=0.0, transaction=32374),\n",
              " Data(date=datetime.datetime(2022, 7, 5, 0, 0), capacity=45713186, turnover=4669649468, open=102.0, high=103.0, low=101.0, close=102.5, change=2.5, transaction=20422),\n",
              " Data(date=datetime.datetime(2022, 7, 6, 0, 0), capacity=45875699, turnover=4653042441, open=103.0, high=103.5, low=100.5, close=100.5, change=-2.0, transaction=22660),\n",
              " Data(date=datetime.datetime(2022, 7, 7, 0, 0), capacity=41084778, turnover=4210411576, open=101.0, high=103.5, low=100.5, close=103.5, change=3.0, transaction=15382),\n",
              " Data(date=datetime.datetime(2022, 7, 8, 0, 0), capacity=35186757, turnover=3613971179, open=103.5, high=104.0, low=101.5, close=102.0, change=-1.5, transaction=15471),\n",
              " Data(date=datetime.datetime(2022, 7, 11, 0, 0), capacity=18971045, turnover=1917673836, open=102.0, high=102.0, low=100.5, close=101.0, change=-1.0, transaction=10175),\n",
              " Data(date=datetime.datetime(2022, 7, 12, 0, 0), capacity=26222208, turnover=2629265988, open=100.0, high=101.0, low=99.7, close=100.5, change=-0.5, transaction=13954),\n",
              " Data(date=datetime.datetime(2022, 7, 13, 0, 0), capacity=32354911, turnover=3333763591, open=103.0, high=103.5, low=102.5, close=102.5, change=2.0, transaction=15547),\n",
              " Data(date=datetime.datetime(2022, 7, 14, 0, 0), capacity=46239887, turnover=4831039581, open=102.5, high=106.0, low=102.5, close=105.0, change=2.5, transaction=18374),\n",
              " Data(date=datetime.datetime(2022, 7, 15, 0, 0), capacity=25505254, turnover=2682379312, open=105.0, high=106.0, low=104.5, close=105.0, change=0.0, transaction=10272),\n",
              " Data(date=datetime.datetime(2022, 7, 18, 0, 0), capacity=17083253, turnover=1789285264, open=105.0, high=105.5, low=104.0, close=105.0, change=0.0, transaction=8324),\n",
              " Data(date=datetime.datetime(2022, 7, 19, 0, 0), capacity=20535363, turnover=2138674698, open=104.5, high=105.0, low=103.5, close=104.0, change=-1.0, transaction=10417),\n",
              " Data(date=datetime.datetime(2022, 7, 20, 0, 0), capacity=35585856, turnover=3703922190, open=104.0, high=105.0, low=103.0, close=103.5, change=-0.5, transaction=17562),\n",
              " Data(date=datetime.datetime(2022, 7, 21, 0, 0), capacity=24149090, turnover=2529832035, open=104.0, high=105.5, low=103.5, close=105.5, change=2.0, transaction=9269),\n",
              " Data(date=datetime.datetime(2022, 7, 22, 0, 0), capacity=29400418, turnover=3117384373, open=105.5, high=106.5, low=105.0, close=106.0, change=0.5, transaction=11003),\n",
              " Data(date=datetime.datetime(2022, 7, 25, 0, 0), capacity=41471982, turnover=4448057977, open=106.0, high=108.0, low=105.5, close=107.5, change=1.5, transaction=14188),\n",
              " Data(date=datetime.datetime(2022, 7, 26, 0, 0), capacity=23277125, turnover=2508249267, open=108.0, high=108.5, low=107.0, close=108.0, change=0.5, transaction=10247),\n",
              " Data(date=datetime.datetime(2022, 7, 27, 0, 0), capacity=30876807, turnover=3344846475, open=108.5, high=109.5, low=107.5, close=108.0, change=0.0, transaction=13670),\n",
              " Data(date=datetime.datetime(2022, 7, 28, 0, 0), capacity=21932255, turnover=2378939021, open=109.0, high=109.0, low=108.0, close=108.5, change=0.5, transaction=11572),\n",
              " Data(date=datetime.datetime(2022, 7, 29, 0, 0), capacity=21951559, turnover=2389538354, open=109.0, high=109.5, low=108.5, close=109.0, change=0.5, transaction=9079)]"
            ]
          },
          "metadata": {},
          "execution_count": 5
        }
      ]
    },
    {
      "cell_type": "code",
      "source": [
        "# 讀取2021年12月到今天的資料\n",
        "stock.fetch_from(2021,12)"
      ],
      "metadata": {
        "id": "jqZvBugS6KDI"
      },
      "execution_count": null,
      "outputs": []
    },
    {
      "cell_type": "code",
      "source": [
        "# 下載個股全年資料\n",
        "import csv, os, time\n",
        "import twstock\n",
        "\n",
        "datayear = 2021\n",
        "startmonth = 1\n",
        "filepath = 'twstock' + str(datayear) + '.csv'\n",
        "title = [\"日期\",\"成交股數\",\"成交金額\",\"開盤價\",\"最高價\",\"最低價\",\"收盤價\",\"漲跌價差\",\"成交筆數\"]\n",
        "\n",
        "for i in range(startmonth, 13):\n",
        "    outputfile = open(filepath, 'a', newline='', encoding='big5')\n",
        "    outputwriter = csv.writer(outputfile)\n",
        "    stock = twstock.Stock('2317')\n",
        "    stocklist=stock.fetch(datayear,i)\n",
        "    data=[]\n",
        "    for stock in stocklist:\n",
        "        strdate = stock.date.strftime(\"%Y-%m-%d\")\n",
        "        li = [strdate,stock.capacity,stock.turnover,\n",
        "              stock.open,stock.high,stock.low,stock.close,\n",
        "              stock.change,stock.transaction]\n",
        "        data.append(li)\n",
        "    if i==1:\n",
        "        outputwriter.writerow(title)\n",
        "    for dataline in (data):\n",
        "        outputwriter.writerow(dataline)\n",
        "    time.sleep(2)\n",
        "    outputfile.close()"
      ],
      "metadata": {
        "id": "w9_prZks6fs1"
      },
      "execution_count": 2,
      "outputs": []
    }
  ]
}